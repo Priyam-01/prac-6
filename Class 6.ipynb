{
 "cells": [
  {
   "cell_type": "code",
   "execution_count": 2,
   "id": "a715d151",
   "metadata": {},
   "outputs": [],
   "source": [
    "a ={\"name\": \"Kumar\", \"age\": \"21\", \"location\": \"mumbai\"}"
   ]
  },
  {
   "cell_type": "code",
   "execution_count": 3,
   "id": "d8a90ad4",
   "metadata": {},
   "outputs": [
    {
     "name": "stdout",
     "output_type": "stream",
     "text": [
      "<class 'dict'>\n",
      "True\n",
      "age\n",
      "name\n",
      "3\n",
      "['age', 'location', 'name']\n"
     ]
    }
   ],
   "source": [
    "print(type(a))\n",
    "print(isinstance(a, dict))\n",
    "print(min(a))\n",
    "print(max(a))\n",
    "print(len(a))\n",
    "print(sorted(a))"
   ]
  },
  {
   "cell_type": "code",
   "execution_count": 4,
   "id": "5c4fb064",
   "metadata": {},
   "outputs": [
    {
     "name": "stdout",
     "output_type": "stream",
     "text": [
      "age\n"
     ]
    }
   ],
   "source": [
    "print(min(a))"
   ]
  },
  {
   "cell_type": "code",
   "execution_count": 5,
   "id": "bf451134",
   "metadata": {},
   "outputs": [
    {
     "name": "stdout",
     "output_type": "stream",
     "text": [
      "['age', 'location', 'name']\n"
     ]
    }
   ],
   "source": [
    "print(sorted(a))"
   ]
  },
  {
   "cell_type": "code",
   "execution_count": 6,
   "id": "d3b1a618",
   "metadata": {},
   "outputs": [
    {
     "name": "stdout",
     "output_type": "stream",
     "text": [
      "['d', 'e', 'm', 'o']\n"
     ]
    }
   ],
   "source": [
    "a=\"demo\"\n",
    "print(sorted(a))"
   ]
  },
  {
   "cell_type": "code",
   "execution_count": 7,
   "id": "33a80f5a",
   "metadata": {},
   "outputs": [
    {
     "name": "stdout",
     "output_type": "stream",
     "text": [
      "[1, 2, 3]\n"
     ]
    }
   ],
   "source": [
    "a={1,2,3}\n",
    "print(sorted(a))"
   ]
  },
  {
   "cell_type": "code",
   "execution_count": 8,
   "id": "a04320a1",
   "metadata": {},
   "outputs": [
    {
     "name": "stdout",
     "output_type": "stream",
     "text": [
      "dict_keys(['name', 'age', 'location'])\n",
      "dict_values(['Kumar', '21', 'mumbai'])\n",
      "dict_items([('name', 'Kumar'), ('age', '21'), ('location', 'mumbai')])\n"
     ]
    }
   ],
   "source": [
    "a ={\"name\": \"Kumar\", \"age\": \"21\", \"location\": \"mumbai\"}\n",
    "# Inbuilt Python function work for dictionary\n",
    "print(a.keys())\n",
    "print(a.values()) # Conver it into list\n",
    "print(a.items()) # Convert it into list of tuples"
   ]
  },
  {
   "cell_type": "code",
   "execution_count": 9,
   "id": "2621818f",
   "metadata": {},
   "outputs": [
    {
     "name": "stdout",
     "output_type": "stream",
     "text": [
      "Kumar\n"
     ]
    }
   ],
   "source": [
    "a ={\"name\": \"Kumar\", \"age\": \"21\", \"location\": \"mumbai\"}\n",
    "\n",
    "print(a[\"name\"])"
   ]
  },
  {
   "cell_type": "code",
   "execution_count": 10,
   "id": "6cb06d4c",
   "metadata": {},
   "outputs": [
    {
     "ename": "KeyError",
     "evalue": "'demo'",
     "output_type": "error",
     "traceback": [
      "\u001b[1;31m---------------------------------------------------------------------------\u001b[0m",
      "\u001b[1;31mKeyError\u001b[0m                                  Traceback (most recent call last)",
      "Cell \u001b[1;32mIn[10], line 1\u001b[0m\n\u001b[1;32m----> 1\u001b[0m \u001b[38;5;28mprint\u001b[39m(a[\u001b[38;5;124m\"\u001b[39m\u001b[38;5;124mdemo\u001b[39m\u001b[38;5;124m\"\u001b[39m])\n",
      "\u001b[1;31mKeyError\u001b[0m: 'demo'"
     ]
    }
   ],
   "source": [
    "print(a[\"demo\"])"
   ]
  },
  {
   "cell_type": "code",
   "execution_count": 11,
   "id": "b82a1bef",
   "metadata": {},
   "outputs": [],
   "source": [
    "# to handle key error we .get method"
   ]
  },
  {
   "cell_type": "code",
   "execution_count": 12,
   "id": "f474ffe4",
   "metadata": {},
   "outputs": [
    {
     "name": "stdout",
     "output_type": "stream",
     "text": [
      "Kumar\n"
     ]
    }
   ],
   "source": [
    "print(a.get(\"name\"))"
   ]
  },
  {
   "cell_type": "code",
   "execution_count": 13,
   "id": "cc2a08a4",
   "metadata": {},
   "outputs": [
    {
     "name": "stdout",
     "output_type": "stream",
     "text": [
      "None\n"
     ]
    }
   ],
   "source": [
    "print(a.get(\"demo\"))"
   ]
  },
  {
   "cell_type": "code",
   "execution_count": 14,
   "id": "2a14f70d",
   "metadata": {},
   "outputs": [
    {
     "name": "stdout",
     "output_type": "stream",
     "text": [
      "ggggg\n",
      "Kumar\n"
     ]
    }
   ],
   "source": [
    "print(a.get(\"demo\", \"ggggg\"))\n",
    "print(a.get(\"name\", \"ggggg\"))"
   ]
  },
  {
   "cell_type": "code",
   "execution_count": 15,
   "id": "5a15db43",
   "metadata": {},
   "outputs": [],
   "source": [
    "a ={\"name\": \"Kumar\", \"age\": \"21\", \"location\": \"mumbai\"}"
   ]
  },
  {
   "cell_type": "code",
   "execution_count": 17,
   "id": "18799140",
   "metadata": {},
   "outputs": [
    {
     "name": "stdout",
     "output_type": "stream",
     "text": [
      "{'name': 'Kumar', 'age': '21', 'location': 'mumbai', 'demo': 'test'}\n"
     ]
    }
   ],
   "source": [
    "#Add items in dict\n",
    "a[\"demo\"] =\"test\"\n",
    "print(a)"
   ]
  },
  {
   "cell_type": "code",
   "execution_count": 18,
   "id": "36eb5f3a",
   "metadata": {},
   "outputs": [
    {
     "name": "stdout",
     "output_type": "stream",
     "text": [
      "{'name': 'Python', 'age': '21', 'location': 'mumbai', 'demo': 'test'}\n"
     ]
    }
   ],
   "source": [
    "#It override the data if we try to add existing key again\n",
    "a[\"name\"] =\"Python\"\n",
    "print(a)"
   ]
  },
  {
   "cell_type": "code",
   "execution_count": 19,
   "id": "7219e471",
   "metadata": {},
   "outputs": [
    {
     "name": "stdout",
     "output_type": "stream",
     "text": [
      "{'name': 'Python', 'age': '21', 'location': 'mumbai'}\n"
     ]
    }
   ],
   "source": [
    "del a[\"demo\"]\n",
    "print(a)"
   ]
  },
  {
   "cell_type": "code",
   "execution_count": 20,
   "id": "6dd7dc16",
   "metadata": {},
   "outputs": [
    {
     "name": "stdout",
     "output_type": "stream",
     "text": [
      "{'name': 'Python', 'age': '21'}\n",
      "mumbai\n"
     ]
    }
   ],
   "source": [
    "# pop Remove items from a and assign its value to b\n",
    "b = a.pop(\"location\")\n",
    "print(a)\n",
    "print(b)"
   ]
  },
  {
   "cell_type": "code",
   "execution_count": 21,
   "id": "4535b8a1",
   "metadata": {},
   "outputs": [
    {
     "name": "stdout",
     "output_type": "stream",
     "text": [
      "('demo', 'test')\n",
      "{'name': 'Python', 'age': '21', 'location': 'mumbai'}\n"
     ]
    }
   ],
   "source": [
    "a = {'name': 'Python', 'age': '21', 'location': 'mumbai', 'demo': 'test'}\n",
    "b = a.popitem()\n",
    "print(b)\n",
    "print(a)"
   ]
  },
  {
   "cell_type": "code",
   "execution_count": 22,
   "id": "d13db60a",
   "metadata": {},
   "outputs": [
    {
     "name": "stdout",
     "output_type": "stream",
     "text": [
      "{'name': 'Akshay', 'age': 20}\n"
     ]
    }
   ],
   "source": [
    "# update dict items\n",
    "\n",
    "a = {\"name\": \"Akshay\"}\n",
    "b= {\"age\": 20}\n",
    "\n",
    "a.update(b)\n",
    "print(a)"
   ]
  },
  {
   "cell_type": "code",
   "execution_count": 23,
   "id": "5ff0508d",
   "metadata": {},
   "outputs": [],
   "source": [
    "a ={\"name\": \"Kumar\", \"age\": \"21\", \"location\": \"mumbai\"}"
   ]
  },
  {
   "cell_type": "code",
   "execution_count": 24,
   "id": "cf796484",
   "metadata": {},
   "outputs": [
    {
     "ename": "TypeError",
     "evalue": "unhashable type: 'slice'",
     "output_type": "error",
     "traceback": [
      "\u001b[1;31m---------------------------------------------------------------------------\u001b[0m",
      "\u001b[1;31mTypeError\u001b[0m                                 Traceback (most recent call last)",
      "Cell \u001b[1;32mIn[24], line 1\u001b[0m\n\u001b[1;32m----> 1\u001b[0m \u001b[38;5;28mprint\u001b[39m(a[::\u001b[38;5;241m-\u001b[39m\u001b[38;5;241m1\u001b[39m])\n",
      "\u001b[1;31mTypeError\u001b[0m: unhashable type: 'slice'"
     ]
    }
   ],
   "source": [
    "print(a[::-1])"
   ]
  },
  {
   "cell_type": "code",
   "execution_count": null,
   "id": "53a36771",
   "metadata": {},
   "outputs": [],
   "source": []
  }
 ],
 "metadata": {
  "kernelspec": {
   "display_name": "Python 3 (ipykernel)",
   "language": "python",
   "name": "python3"
  },
  "language_info": {
   "codemirror_mode": {
    "name": "ipython",
    "version": 3
   },
   "file_extension": ".py",
   "mimetype": "text/x-python",
   "name": "python",
   "nbconvert_exporter": "python",
   "pygments_lexer": "ipython3",
   "version": "3.11.5"
  }
 },
 "nbformat": 4,
 "nbformat_minor": 5
}
